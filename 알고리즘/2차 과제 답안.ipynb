{
 "cells": [
  {
   "cell_type": "markdown",
   "metadata": {},
   "source": [
    "## 수학은 체육과목 2\n",
    "- 오른손을 바닥에 놓고 엄지 1, 검지 2, 중지 3, 약지 4, 새끼손가락 5, 약지 6, 중지 7, 검지 8, 엄지 9, 검지 10, ... 의 규칙으로 계속 세어 나갈 때, 1000에 해당하는 손가락은?\n",
    "- '1000'을 임의의 자연수로 바꾸었을 때 그에 해당하는 답을 출력하는 프로그램을 작성해야 한다."
   ]
  },
  {
   "cell_type": "code",
   "execution_count": null,
   "metadata": {},
   "outputs": [],
   "source": [
    "# 내 풀이\n",
    "input = int(input()) % 8\n",
    "\n",
    "if input == 1: print('1')\n",
    "elif (input == 2) or (input == 0): print('2')\n",
    "elif (input == 3) or (input == 7): print('3')\n",
    "elif (input == 4) or (input == 6): print('4')\n",
    "else: print('5')"
   ]
  },
  {
   "cell_type": "code",
   "execution_count": null,
   "metadata": {},
   "outputs": [],
   "source": [
    "# 답안\n",
    "N = int(input()) - 1\n",
    "print(min(8-N%8, N%8) + 1)"
   ]
  },
  {
   "cell_type": "markdown",
   "metadata": {},
   "source": [
    "## 주사위 4개\n",
    "- 1에서부터 6까지의 눈을 가진 4개의 주사위를 던져서 다음과 같은 규칙에 따라 상금을 받는 게임이 있다. \n",
    "    1. 같은 눈이 4개가 나오면 50,000원+(같은 눈)*5,000원의 상금을 받게 된다. \n",
    "    2. 같은 눈이 3개만 나오면 10,000원+(3개가 나온 눈)*1,000원의 상금을 받게 된다. \n",
    "    3. 같은 눈이 2개씩 두 쌍이 나오는 경우에는 2,000원+(2개가 나온 눈)*500원+(또 다른 2개가 나온 눈)*500원의 상금을 받게 된다.\n",
    "    4. 같은 눈이 2개만 나오는 경우에는 1,000원+(같은 눈)*100원의 상금을 받게 된다. \n",
    "    5. 모두 다른 눈이 나오는 경우에는 (그 중 가장 큰 눈)*100원의 상금을 받게 된다.  \n",
    "- 예를 들어, 4개의 눈이 3, 3, 3, 3으로 주어지면 50,000+3*5,000으로 계산되어 65,000원의 상금을 받게 된다. 4개의 눈이 3, 3, 6, 3으로 주어지면 상금은 10,000+3*1,000으로 계산되어 13,000원을 받게 된다. 또 4개의 눈이 2, 2, 6, 6으로 주어지면 2,000+2*500+6*500으로 계산되어 6,000원을 받게 된다. 4개의 눈이 6, 2, 1, 6으로 주어지면 1,000+6*100으로 계산되어 1,600원을 받게 된다. 4개의 눈이 6, 2, 1, 5로 주어지면 그 중 가장 큰 값이 6이므로 6*100으로 계산되어 600원을 상금으로 받게 된다.\n",
    "- N(1≤N≤1,000)명이 주사위 게임에 참여하였을 때, 가장 많은 상금을 받은 사람의 상금을 출력하는 프로그램을 작성하시오."
   ]
  },
  {
   "cell_type": "code",
   "execution_count": null,
   "metadata": {},
   "outputs": [],
   "source": [
    "# 내 풀이\n",
    "input_times = int(input())\n",
    "prize_list = list()\n",
    "\n",
    "for times in range(input_times):\n",
    "    output = {}\n",
    "    input_numbers = input().split()\n",
    "    \n",
    "    for input_number in input_numbers:\n",
    "        try: output[input_number] += 1\n",
    "        except: output[input_number] = 1\n",
    "        \n",
    "    max_count = max(list(output.values()))\n",
    "    numbers = list(output.keys())\n",
    "    \n",
    "    for number, count in output.items():\n",
    "        if count == max_count:\n",
    "            if max_count == len(input_numbers):\n",
    "                case1 = 50000 + int(number)*5000\n",
    "                prize_list.append(case1)\n",
    "            \n",
    "            elif max_count == len(input_numbers)-1:\n",
    "                case2 = 10000 + int(number)*1000\n",
    "                prize_list.append(case2)\n",
    "                \n",
    "            elif (max_count == len(input_numbers)-2) and (len(numbers) == 2):\n",
    "                case3 = 2000 + (int(numbers[0]) + int(numbers[1]))*500\n",
    "                prize_list.append(case3)\n",
    "                \n",
    "            elif (max_count == len(input_numbers)-2) and (len(numbers) == 3):\n",
    "                case4 = 1000 + int(number)*100\n",
    "                prize_list.append(case4)\n",
    "                \n",
    "            else:\n",
    "                case5 = int(max(numbers))*100\n",
    "                prize_list.append(case5)\n",
    "                \n",
    "prize_list = set(prize_list)\n",
    "print(max(prize_list))"
   ]
  },
  {
   "cell_type": "code",
   "execution_count": null,
   "metadata": {},
   "outputs": [],
   "source": [
    "# 답안\n",
    "def money():\n",
    "    lst = sorted(list(map(int, input().split())))\n",
    "    \n",
    "    if len(set(lst)) == 1: return lst[0] * 5000 + 50000\n",
    "    if len(set(lst)) == 2:\n",
    "        if lst[1] == lst[2]: return 10000 + lst[1] * 1000\n",
    "        return 2000 + (lst[1] + lst[2]) * 500\n",
    "    \n",
    "    for i in range(3):\n",
    "        if lst[i] == lst[i+1]: return 1000 + lst[i] * 100\n",
    "    return lst[-1] * 100\n",
    "\n",
    "N = int(input())\n",
    "print(max(money() for i in range(N)))"
   ]
  },
  {
   "cell_type": "markdown",
   "metadata": {},
   "source": [
    "## 이름궁합\n",
    "- 시윤이는 좋아하는 이성이 생기면 가장 먼저 이름궁합부터 본다. 이름궁합을 보는 방법은 간단하다. 먼저 이름을 알파벳 대문자로 적는다. 각 알파벳 대문자에는 다음과 같이 알파벳을 적는데 필요한 획수가 주어진다. 예를 들어, 두 사람의 이름인 LEESIYUN, MIYAWAKISAKURA 를 같이 표현했을 때 다음과 같이 먼저 주어진 이름부터 한 글자씩 적는다.\n",
    "- 두 사람의 이름을 알파벳 대문자로 표현한 뒤, 한 글자씩 번갈아가며 적는다.\n",
    "- 예시 :  L M E I E Y S A I W Y A U K N I S A K U R A\n",
    "- 예시처럼 이름이 남을 경우엔 뒤에 남은 글자인 S A K U R A를 맨 뒤에 적는다. 그러고 나서 알파벳을 대응하는 숫자로 바꾸고 각 숫자와 그 숫자의 오른쪽 숫자와 더한 것을 밑에 적는다. 더한 숫자가 10이 넘을 경우엔 일의 자리 수만 남긴다. 이 과정을 반복하여 숫자가 2개만 남았을 때 남은 숫자가 두 사람의 궁합이 좋을 확률이 된다."
   ]
  },
  {
   "cell_type": "code",
   "execution_count": null,
   "metadata": {},
   "outputs": [],
   "source": [
    "# 내 풀이\n",
    "num1, num2 = map(int, input().split())\n",
    "name1, name2 = input().split()\n",
    "\n",
    "if num1 >= num2:\n",
    "    short_len = num2\n",
    "    long_name = name1   \n",
    "else:\n",
    "    short_len = num1\n",
    "    long_name = name2\n",
    "    \n",
    "mix_names = list()\n",
    "for name_idx in range(short_len):\n",
    "    mix_names.append(name1[name_idx].upper())\n",
    "    mix_names.append(name2[name_idx].upper())   \n",
    "mix_names += long_name[short_len:]\n",
    "\n",
    "strokes = [3, 2, 1, 2 ,4, 3, 1, 3, 1, 1, 3, 1, 3, 2, 1, 2, 2, 2, 1, 2, 1, 1, 1, 2, 2, 1]\n",
    "alphabets = [chr(alphabet) for alphabet in range(ord('A'), ord('A') + 26)]\n",
    "\n",
    "name_list = []\n",
    "for letter in mix_names:\n",
    "    name_list.append(strokes[alphabets.index(letter.upper())])\n",
    "\n",
    "for i in range(len(mix_names) - 2):\n",
    "    name_list_iter = []\n",
    "    for i in range(len(name_list) - 1):\n",
    "        num_add = name_list[i] + name_list[i+1]\n",
    "        if num_add >= 10:\n",
    "            name_list_iter.append(int(str(num_add)[1]))\n",
    "        else:\n",
    "            name_list_iter.append(num_add)            \n",
    "    name_list = name_list_iter\n",
    "\n",
    "answer = ''\n",
    "for i in name_list:\n",
    "    i = str(i)\n",
    "    answer += i\n",
    "\n",
    "if answer[0] == '0':\n",
    "    answer = answer[1]\n",
    "    \n",
    "print(answer + '%')"
   ]
  },
  {
   "cell_type": "code",
   "execution_count": null,
   "metadata": {},
   "outputs": [],
   "source": [
    "# 답안\n",
    "N, M = map(int, input().split())\n",
    "A, B = input(). split()\n",
    "\n",
    "alp = [3, 2, 1, 2, 4, 3, 1, 3, 1, 1, 3, 1, 3, 2, 1, 2, 2, 2, 1, 2, 1, 1, 1, 2, 2, 1]\n",
    "AB = ''\n",
    "min_len = min(N, M)\n",
    "\n",
    "for i in range(min_len): AB += A[i] + B[i]\n",
    "\n",
    "AB += A[min_len:] + B[min_len:]\n",
    "lst = [alp[ord(i)-ord('A')] for i in AB]\n",
    "\n",
    "for i in range(N+M-2):\n",
    "    for j in range(N+M-1-i):\n",
    "        lst[j] += lst[j+1]\n",
    "        \n",
    "print(f'{lst[0]%10*10 + lst[1] % 10}%')"
   ]
  }
 ],
 "metadata": {
  "kernelspec": {
   "display_name": "Python 3",
   "language": "python",
   "name": "python3"
  },
  "language_info": {
   "codemirror_mode": {
    "name": "ipython",
    "version": 3
   },
   "file_extension": ".py",
   "mimetype": "text/x-python",
   "name": "python",
   "nbconvert_exporter": "python",
   "pygments_lexer": "ipython3",
   "version": "3.7.3"
  }
 },
 "nbformat": 4,
 "nbformat_minor": 2
}
