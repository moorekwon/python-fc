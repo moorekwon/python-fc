{
 "cells": [
  {
   "cell_type": "code",
   "execution_count": null,
   "metadata": {},
   "outputs": [],
   "source": [
    "# import sys\n",
    "# input = sys.stdin.readline\n",
    "\n",
    "que = []\n",
    "\n",
    "N = int(input())\n",
    "\n",
    "for _ in range(N):\n",
    "    cmd = input().split()\n",
    "    \n",
    "    if cmd[0] == 'push':\n",
    "        que.append(cmd[1])\n",
    "    if cmd[0] == 'pop':\n",
    "        print(que.pop(0) if len(que) else -1)\n",
    "    if cmd[0] == 'size':\n",
    "        print(len(que))\n",
    "    if cmd[0] == 'empty':\n",
    "        print(int(len(que) == 0))\n",
    "    if cmd[0] == 'front':\n",
    "        print(que[0] if len(que) else -1)\n",
    "    if cmd[0] == 'back':\n",
    "        print(que[-1] if len(que) else -1)"
   ]
  }
 ],
 "metadata": {
  "kernelspec": {
   "display_name": "Python 3",
   "language": "python",
   "name": "python3"
  },
  "language_info": {
   "codemirror_mode": {
    "name": "ipython",
    "version": 3
   },
   "file_extension": ".py",
   "mimetype": "text/x-python",
   "name": "python",
   "nbconvert_exporter": "python",
   "pygments_lexer": "ipython3",
   "version": "3.7.3"
  }
 },
 "nbformat": 4,
 "nbformat_minor": 2
}
