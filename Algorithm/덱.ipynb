{
 "cells": [
  {
   "cell_type": "code",
   "execution_count": null,
   "metadata": {},
   "outputs": [],
   "source": [
    "from collections import deque\n",
    "\n",
    "# import sys\n",
    "# input = sys.stdin.readline\n",
    "\n",
    "dq = deque()\n",
    "\n",
    "N = int(input())\n",
    "\n",
    "for _ in range(N):\n",
    "    cmd = input().split()\n",
    "    \n",
    "    if cmd[0] == 'push_front':\n",
    "        dq.appendleft(cmd[1])\n",
    "    if cmd[0] == 'push_back':\n",
    "        dq.append(cmd[1])\n",
    "    if cmd[0] == 'pop_front':\n",
    "        print(dq.popleft() if len(dq) else -1)\n",
    "    if cmd[0] == 'pop_back':\n",
    "        print(dq.pop() if len(dq) else -1)\n",
    "    if cmd[0] == 'size':\n",
    "        print(len(dq))\n",
    "    if cmd[0] == 'empty':\n",
    "        print(int(len(dq) == 0))\n",
    "    if cmd[0] == 'front':\n",
    "        print(dq[0] if len(dq) else -1)\n",
    "    if cmd[0] == 'back':\n",
    "        print(dq[-1] if len(dq) else -1)"
   ]
  },
  {
   "cell_type": "code",
   "execution_count": 2,
   "metadata": {},
   "outputs": [
    {
     "name": "stdout",
     "output_type": "stream",
     "text": [
      "5 17\n",
      "4\n"
     ]
    }
   ],
   "source": [
    "# 숨바꼭질 (BSF)\n",
    "from collections import deque\n",
    "\n",
    "# import sys\n",
    "# input = sys.stdin.readline\n",
    "\n",
    "N, K = map(int, input().split())\n",
    "\n",
    "ck = [-1 for _ in range(200000)]\n",
    "q = deque()\n",
    "\n",
    "\n",
    "ck[N] = 0\n",
    "q.append(N)\n",
    "\n",
    "while len(q) > 0:\n",
    "    front = q.popleft()\n",
    "    \n",
    "    if front == K:\n",
    "        print(ck[K])\n",
    "        break\n",
    "        \n",
    "    if ck[front-1] == -1 and front-1 >= 0:\n",
    "        ck[front-1] = ck[front] + 1\n",
    "        q.append(front-1)\n",
    "    if front+1 < len(ck) and ck[front+1] == -1:\n",
    "        ck[front+1] = ck[front] + 1\n",
    "        q.append(front+1)\n",
    "    if front*2 < len(ck) and ck[front*2] == -1:\n",
    "        ck[front*2] = ck[front] + 1\n",
    "        q.append(front*2)"
   ]
  }
 ],
 "metadata": {
  "kernelspec": {
   "display_name": "Python 3",
   "language": "python",
   "name": "python3"
  },
  "language_info": {
   "codemirror_mode": {
    "name": "ipython",
    "version": 3
   },
   "file_extension": ".py",
   "mimetype": "text/x-python",
   "name": "python",
   "nbconvert_exporter": "python",
   "pygments_lexer": "ipython3",
   "version": "3.7.3"
  }
 },
 "nbformat": 4,
 "nbformat_minor": 2
}
