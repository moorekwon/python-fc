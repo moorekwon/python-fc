{
 "cells": [
  {
   "cell_type": "code",
   "execution_count": null,
   "metadata": {},
   "outputs": [],
   "source": [
    "# 피보나치 1\n",
    "N = int(input())\n",
    "DP = [0 for _ in range(50)]\n",
    "DP[1] = 1\n",
    "\n",
    "for i in range(2, N+1):\n",
    "    DP[i] = DP[i-1] + DP[i-2]\n",
    "    \n",
    "print(DP[N])"
   ]
  },
  {
   "cell_type": "code",
   "execution_count": null,
   "metadata": {},
   "outputs": [],
   "source": [
    "# 피보나치 2\n",
    "N = int(input())\n",
    "DP = [0 for _ in range(N)]\n",
    "\n",
    "def fib(n):\n",
    "    if n < 2:\n",
    "        return n\n",
    "    if DP[n] != 0:\n",
    "        return DP[n]\n",
    "    DP[n] = fib(n-1) + fib(n-2)\n",
    "    return DP[n]\n",
    "\n",
    "print(fib(N))"
   ]
  },
  {
   "cell_type": "code",
   "execution_count": null,
   "metadata": {},
   "outputs": [],
   "source": [
    "# 2차배열의 합\n",
    "N, M = map(int, input('N, M: ').split())\n",
    "\n",
    "A = [list(map(int, input('A: ').split())) for _ in range(N+1)]\n",
    "DP = [[0 for i in range(M+1)] for j in range(N+1)]\n",
    "\n",
    "for i in range(1, N+1):\n",
    "    for j in range(1, M+1):\n",
    "        DP[i][j] = DP[i-1][j] + DP[i][j-1] - DP[i-1][j-1] + A[i-1][j-1]\n",
    "        \n",
    "K = int(input('K: '))\n",
    "for _ in range(K):\n",
    "    i, j, x, y = map(int, input('i, j, x, y: ').split())\n",
    "    print(DP[x][y] - DP[i-1][y] - DP[x][j-1]) + DP[i-1][j-1]"
   ]
  },
  {
   "cell_type": "code",
   "execution_count": null,
   "metadata": {},
   "outputs": [],
   "source": [
    "# 계단 오르기\n",
    "N = int(input())\n",
    "\n",
    "lst = [0]\n",
    "for i in range(N):\n",
    "    lst.append(int(input()))\n",
    "    \n",
    "DP = [[0 for _ in range(2)] for _ in range(N+2)]\n",
    "\n",
    "# DP[1][0] = \n",
    "\n",
    "for i in range(1, N+1):\n",
    "    if i >= 2:\n",
    "        DP[i][0] = max(DP[i-2][0], DP[i-1][1]) + lst[i]\n",
    "    DP[i][1] = DP[i-1][0] + lst[i]\n",
    "    \n",
    "print(max(DP[N]))"
   ]
  },
  {
   "cell_type": "code",
   "execution_count": null,
   "metadata": {},
   "outputs": [],
   "source": [
    "# 2차배열의 합\n",
    "N, M = map(int, input().split())\n",
    "\n",
    "A = [list(map(int, input().split())) for _ in range(N)]\n",
    "DP = [[0 for i in range(M+1)] for _ in range(N+1)]\n",
    "\n",
    "for i in range(1, N+1):\n",
    "    for j in range(1, M+1):\n",
    "        DP[i][j] = DP[i-1][j] + DP[i][j-1] - DP[i-1][j-1] + A[i-1][j-1]\n",
    "\n",
    "K = int(input())\n",
    "for _ in range(K):\n",
    "    i, j, x, y = map(int, input().split())\n",
    "    print(DP[x][y] - DP[i-1][y] - DP[x][j-1] + DP[i-1][j-1])"
   ]
  },
  {
   "cell_type": "code",
   "execution_count": 2,
   "metadata": {},
   "outputs": [
    {
     "name": "stdout",
     "output_type": "stream",
     "text": [
      "6\n",
      "10 20 10 30 20 50\n",
      "4\n"
     ]
    }
   ],
   "source": [
    "# 가장 긴 증가하는 부분 수열\n",
    "# 시간복잡도 O(N제곱)\n",
    "N = int(input())\n",
    "A = list(map(int, input().split()))\n",
    "\n",
    "DP = [1 for _ in range(N)]\n",
    "\n",
    "for i in range(1, N):\n",
    "    for j in range(i):\n",
    "        if A[i] > A[j]:\n",
    "            DP[i] = max(DP[i], DP[j]+1)\n",
    "            \n",
    "print(max(DP))"
   ]
  },
  {
   "cell_type": "code",
   "execution_count": null,
   "metadata": {},
   "outputs": [],
   "source": [
    "# 정수 삼각형\n",
    "N = int(input())\n",
    "DP = [0 for _ in range(N+1)] for _ in range(N+1)\n",
    "\n",
    "for i in range(1, N):\n",
    "    lst = list(map(int, input().split()))\n",
    "    \n",
    "    for j in range(i):\n",
    "        DP[i][j] = max(DP[i-1][j], DP[i-1][j-1]) + lst[j]\n",
    "    "
   ]
  },
  {
   "cell_type": "code",
   "execution_count": 5,
   "metadata": {},
   "outputs": [
    {
     "name": "stdout",
     "output_type": "stream",
     "text": [
      "ACAYKP\n",
      "CAPCAK\n",
      "4\n"
     ]
    }
   ],
   "source": [
    "# LCS\n",
    "A, B = input(), input()\n",
    "A_len, B_len = len(A), len(B)\n",
    "\n",
    "DP = [[0 for _ in range(B_len+1)] for _ in range(A_len+1)]\n",
    "\n",
    "for i in range(A_len):\n",
    "    for j in range(B_len):\n",
    "        DP[i+1][j+1] = max(DP[i+1][j], DP[i][j+1])\n",
    "        if A[i] == B[j]:\n",
    "            DP[i+1][j+1] = max(DP[i+1][j+1], DP[i][j]+1)\n",
    "        \n",
    "print(DP[A_len][B_len])"
   ]
  }
 ],
 "metadata": {
  "kernelspec": {
   "display_name": "Python 3",
   "language": "python",
   "name": "python3"
  },
  "language_info": {
   "codemirror_mode": {
    "name": "ipython",
    "version": 3
   },
   "file_extension": ".py",
   "mimetype": "text/x-python",
   "name": "python",
   "nbconvert_exporter": "python",
   "pygments_lexer": "ipython3",
   "version": "3.7.3"
  }
 },
 "nbformat": 4,
 "nbformat_minor": 2
}
